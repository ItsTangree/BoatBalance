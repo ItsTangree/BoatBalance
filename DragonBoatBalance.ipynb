{
 "cells": [
  {
   "cell_type": "code",
   "execution_count": null,
   "metadata": {},
   "outputs": [],
   "source": [
    "#Paddler Info\n",
    "Geoff = {\"Name\":\"Geoff\", \"Weight\":175, \"Side\":\"Either\", \"Stroke\":\"Yes\"}\n",
    "AmyH = {\"Name\":\"AmyH\", \"Weight\":100, \"Side\":\"Either\", \"Stroke\":\"Yes\"}\n",
    "Ray = {\"Name\":\"Ray\", \"Weight\":150, \"Side\":\"Left\", \"Stroke\":\"No\"}\n",
    "\n",
    "Paddlers = []\n",
    "#Add Paddlers to Boat\n",
    "Paddlers.append(Geoff)\n",
    "Paddlers.append(AmyH)\n",
    "Paddlers.append(Ray)\n",
    "\n",
    "#Output\n",
    "Paddlers[0]['Side']\n"
   ]
  }
 ],
 "metadata": {
  "kernelspec": {
   "display_name": "Python 3",
   "language": "python",
   "name": "python3"
  },
  "language_info": {
   "codemirror_mode": {
    "name": "ipython",
    "version": 3
   },
   "file_extension": ".py",
   "mimetype": "text/x-python",
   "name": "python",
   "nbconvert_exporter": "python",
   "pygments_lexer": "ipython3",
   "version": "3.7.3"
  }
 },
 "nbformat": 4,
 "nbformat_minor": 2
}
