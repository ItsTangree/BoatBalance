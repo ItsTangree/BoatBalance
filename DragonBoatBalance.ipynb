{
 "cells": [
  {
   "cell_type": "code",
   "execution_count": 62,
   "metadata": {},
   "outputs": [
    {
     "name": "stdout",
     "output_type": "stream",
     "text": [
      "275.0\n",
      "LeftSide: [{'Name': 'PlaceholderL', 'Weight': 0, 'Side': 'Left', 'Stroke': 'Yes'}, {'Name': 'Ray', 'Weight': 150, 'Side': 'Left', 'Stroke': 'No'}]\n",
      "LeftWeight: 150\n",
      "RightSide: [{'Name': 'PlaceholderR', 'Weight': 0, 'Side': 'Right', 'Stroke': 'Yes'}]\n",
      "RightWeight: 0\n"
     ]
    }
   ],
   "source": [
    "#Paddler Info\n",
    "Geoff = {'Name':'Geoff', 'Weight':175, 'Side':'Either', 'Stroke':'Yes'}\n",
    "AmyH = {'Name':'AmyH', 'Weight':100, 'Side':'Either', 'Stroke':'Yes'}\n",
    "Ray = {'Name':'Ray', 'Weight':150, 'Side':'Left', 'Stroke':'No'}\n",
    "Tiffany = {'Name':'Tiffany', 'Weight':125, 'Side':'Either', 'Stroke':'Yes'}\n",
    "\n",
    "#Add Paddlers to Boat\n",
    "Paddlers = []\n",
    "Paddlers.append(Geoff)\n",
    "Paddlers.append(AmyH)\n",
    "Paddlers.append(Ray)\n",
    "Paddlers.append(Tiffany)\n",
    "\n",
    "\n",
    "\n",
    "#Sort Paddlers by Preferred Side\n",
    "LeftSide = [{'Name':'PlaceholderL', 'Weight':0, 'Side':'Left', 'Stroke':'Yes'}]\n",
    "RightSide = [{'Name':'PlaceholderR', 'Weight':0, 'Side':'Right', 'Stroke':'Yes'}]\n",
    "Unplaced = [{'Name':'PlaceholderE', 'Weight':0, 'Side':'Either', 'Stroke':'Yes'}]\n",
    "for Seat in Paddlers:     \n",
    "    \n",
    "    if Seat['Side'] == 'Left':LeftSide.append(Seat)\n",
    "    if Seat['Side'] == 'Right':RightSide.append(Seat)\n",
    "    if Seat['Side'] == 'Either':Unplaced.append(Seat)\n",
    "\n",
    "#Even out Boat Weight         \n",
    "#Sum of Sides\n",
    "LeftWeight = 0\n",
    "RightWeight = 0\n",
    "\n",
    "for p in LeftSide:\n",
    "    LeftWeight += p['Weight']\n",
    "for p in RightSide:\n",
    "    RightWeight += p['Weight']\n",
    "    \n",
    "\n",
    "###Method 1 - Place largest weights first - Not Optimal, but logically simple\n",
    "###Sort Unplaced Paddlers\n",
    "#Unplaced = sorted(Unplaced, key = lambda i: i['Weight'], reverse=True)\n",
    "###Place Paddlers into boat heaviest first\n",
    "#for people in Unplaced:\n",
    "#    if LeftWeight >= RightWeight: \n",
    "#        RightSide.append(people)\n",
    "#        RightWeight += people['Weight']\n",
    "#    elif RightWeight > LeftWeight:\n",
    "#        LeftSide.append(people)\n",
    "#        LeftWeight += people['Weight']\n",
    "\n",
    "##Method 2 - Identify half of total boat weight, then place from lowest weight until target reached   \n",
    "##Identify Ideal Target Side Weight\n",
    "UnplacedWeight = 0\n",
    "for p in Unplaced:\n",
    "     UnplacedWeight += p['Weight']\n",
    "\n",
    "TotalWeight = LeftWeight + RightWeight + UnplacedWeight\n",
    "TargetWeight = TotalWeight / 2\n",
    "print(TargetWeight)\n",
    "##Sort Unplaced Paddlers    \n",
    "Unplaced = sorted(Unplaced, key = lambda i: i['Weight'])\n",
    "##Place Paddlers into boat lightest first\n",
    "\n",
    "##Method 3 - ????\n",
    "# - Useful Problem to solve\n",
    "#https://www.codechef.com/problems/TEAMSEL/\n",
    "#https://stackoverflow.com/questions/890171/algorithm-to-divide-a-list-of-numbers-into-2-equal-sum-lists/\n",
    "\n",
    "##Method 4 - profit\n",
    "\n",
    "#Output\n",
    "print(\"LeftSide: \" + str(LeftSide))\n",
    "print(\"LeftWeight: \" + str(LeftWeight))\n",
    "print(\"RightSide: \" + str(RightSide))\n",
    "print(\"RightWeight: \" + str(RightWeight))\n"
   ]
  },
  {
   "cell_type": "code",
   "execution_count": null,
   "metadata": {},
   "outputs": [],
   "source": []
  }
 ],
 "metadata": {
  "kernelspec": {
   "display_name": "Python 3",
   "language": "python",
   "name": "python3"
  },
  "language_info": {
   "codemirror_mode": {
    "name": "ipython",
    "version": 3
   },
   "file_extension": ".py",
   "mimetype": "text/x-python",
   "name": "python",
   "nbconvert_exporter": "python",
   "pygments_lexer": "ipython3",
   "version": "3.7.0"
  }
 },
 "nbformat": 4,
 "nbformat_minor": 2
}
